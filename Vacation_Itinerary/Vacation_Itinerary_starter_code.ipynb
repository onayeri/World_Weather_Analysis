{
 "cells": [
  {
   "cell_type": "markdown",
   "metadata": {},
   "source": [
    "## Deliverable 3. Create a Travel Itinerary Map."
   ]
  },
  {
   "cell_type": "code",
   "execution_count": 1,
   "metadata": {},
   "outputs": [],
   "source": [
    "# Dependencies and Setup\n",
    "import pandas as pd\n",
    "import requests\n",
    "import gmaps\n",
    "\n",
    "# Import API key\n",
    "from config import g_key\n",
    "\n",
    "# Configure gmaps\n",
    "gmaps.configure(api_key=g_key)"
   ]
  },
  {
   "cell_type": "code",
   "execution_count": 2,
   "metadata": {},
   "outputs": [
    {
     "data": {
      "text/html": [
       "<div>\n",
       "<style scoped>\n",
       "    .dataframe tbody tr th:only-of-type {\n",
       "        vertical-align: middle;\n",
       "    }\n",
       "\n",
       "    .dataframe tbody tr th {\n",
       "        vertical-align: top;\n",
       "    }\n",
       "\n",
       "    .dataframe thead th {\n",
       "        text-align: right;\n",
       "    }\n",
       "</style>\n",
       "<table border=\"1\" class=\"dataframe\">\n",
       "  <thead>\n",
       "    <tr style=\"text-align: right;\">\n",
       "      <th></th>\n",
       "      <th>City_ID</th>\n",
       "      <th>City</th>\n",
       "      <th>Country</th>\n",
       "      <th>Lat</th>\n",
       "      <th>Lng</th>\n",
       "      <th>Max Temp</th>\n",
       "      <th>Humidity</th>\n",
       "      <th>Cloudiness</th>\n",
       "      <th>Wind Speed</th>\n",
       "      <th>Current Description</th>\n",
       "      <th>Hotel Name</th>\n",
       "    </tr>\n",
       "  </thead>\n",
       "  <tbody>\n",
       "    <tr>\n",
       "      <th>0</th>\n",
       "      <td>0</td>\n",
       "      <td>Cabo San Lucas</td>\n",
       "      <td>MX</td>\n",
       "      <td>22.8909</td>\n",
       "      <td>-109.9124</td>\n",
       "      <td>87.10</td>\n",
       "      <td>61</td>\n",
       "      <td>20</td>\n",
       "      <td>5.75</td>\n",
       "      <td>few clouds</td>\n",
       "      <td>Hotel Tesoro Los Cabos</td>\n",
       "    </tr>\n",
       "    <tr>\n",
       "      <th>1</th>\n",
       "      <td>1</td>\n",
       "      <td>Celestun</td>\n",
       "      <td>MX</td>\n",
       "      <td>20.8667</td>\n",
       "      <td>-90.4000</td>\n",
       "      <td>76.41</td>\n",
       "      <td>87</td>\n",
       "      <td>53</td>\n",
       "      <td>6.69</td>\n",
       "      <td>broken clouds</td>\n",
       "      <td>Posada Lilia</td>\n",
       "    </tr>\n",
       "    <tr>\n",
       "      <th>2</th>\n",
       "      <td>2</td>\n",
       "      <td>Yellowknife</td>\n",
       "      <td>CA</td>\n",
       "      <td>62.4560</td>\n",
       "      <td>-114.3525</td>\n",
       "      <td>63.12</td>\n",
       "      <td>48</td>\n",
       "      <td>75</td>\n",
       "      <td>3.44</td>\n",
       "      <td>broken clouds</td>\n",
       "      <td>The Explorer Hotel</td>\n",
       "    </tr>\n",
       "    <tr>\n",
       "      <th>3</th>\n",
       "      <td>3</td>\n",
       "      <td>Jamestown</td>\n",
       "      <td>US</td>\n",
       "      <td>42.0970</td>\n",
       "      <td>-79.2353</td>\n",
       "      <td>67.59</td>\n",
       "      <td>77</td>\n",
       "      <td>0</td>\n",
       "      <td>5.75</td>\n",
       "      <td>clear sky</td>\n",
       "      <td>Hampton Inn &amp; Suites Jamestown</td>\n",
       "    </tr>\n",
       "    <tr>\n",
       "      <th>4</th>\n",
       "      <td>8</td>\n",
       "      <td>Banda Aceh</td>\n",
       "      <td>ID</td>\n",
       "      <td>5.5577</td>\n",
       "      <td>95.3222</td>\n",
       "      <td>86.09</td>\n",
       "      <td>61</td>\n",
       "      <td>97</td>\n",
       "      <td>11.03</td>\n",
       "      <td>overcast clouds</td>\n",
       "      <td>OYO 884 Rumoh PMI Hotel</td>\n",
       "    </tr>\n",
       "  </tbody>\n",
       "</table>\n",
       "</div>"
      ],
      "text/plain": [
       "   City_ID            City Country      Lat       Lng  Max Temp  Humidity  \\\n",
       "0        0  Cabo San Lucas      MX  22.8909 -109.9124     87.10        61   \n",
       "1        1        Celestun      MX  20.8667  -90.4000     76.41        87   \n",
       "2        2     Yellowknife      CA  62.4560 -114.3525     63.12        48   \n",
       "3        3       Jamestown      US  42.0970  -79.2353     67.59        77   \n",
       "4        8      Banda Aceh      ID   5.5577   95.3222     86.09        61   \n",
       "\n",
       "   Cloudiness  Wind Speed Current Description                      Hotel Name  \n",
       "0          20        5.75          few clouds          Hotel Tesoro Los Cabos  \n",
       "1          53        6.69       broken clouds                    Posada Lilia  \n",
       "2          75        3.44       broken clouds              The Explorer Hotel  \n",
       "3           0        5.75           clear sky  Hampton Inn & Suites Jamestown  \n",
       "4          97       11.03     overcast clouds         OYO 884 Rumoh PMI Hotel  "
      ]
     },
     "execution_count": 2,
     "metadata": {},
     "output_type": "execute_result"
    }
   ],
   "source": [
    "# 1. Read the WeatherPy_vacation.csv into a DataFrame.\n",
    "vacation_df = pd.read_csv(\"Vacation_Search/WeatherPy_vacation.csv\")\n",
    "vacation_df.head()"
   ]
  },
  {
   "cell_type": "code",
   "execution_count": 3,
   "metadata": {},
   "outputs": [],
   "source": [
    "# 2. Using the template add the city name, the country code, the weather description and maximum temperature for the city.\n",
    "info_box_template = \"\"\"\n",
    "<dl>\n",
    "<dt>Hotel Name</dt><dd>{Hotel Name}</dd>\n",
    "<dt>City</dt><dd>{City}</dd>\n",
    "<dt>Country</dt><dd>{Country}</dd>\n",
    "<dt>Weather Description</dt><dd>{Current Description}</dd>\n",
    "<dt>Max Temp</dt><dd>{Max Temp} °F</dd>\n",
    "</dl>\n",
    "\"\"\"\n",
    "# 3a. Get the data from each row and add it to the formatting template and store the data in a list.\n",
    "hotel_info = [info_box_template.format(**row) for index, row in vacation_df.iterrows()]\n",
    "\n",
    "# 3b. Get the latitude and longitude from each row and store in a new DataFrame.\n",
    "locations = vacation_df[[\"Lat\", \"Lng\"]]"
   ]
  },
  {
   "cell_type": "code",
   "execution_count": 6,
   "metadata": {
    "scrolled": true
   },
   "outputs": [
    {
     "data": {
      "application/vnd.jupyter.widget-view+json": {
       "model_id": "3a9d141901144538ad259dffe7d7e897",
       "version_major": 2,
       "version_minor": 0
      },
      "text/plain": [
       "Figure(layout=FigureLayout(height='420px'))"
      ]
     },
     "metadata": {},
     "output_type": "display_data"
    }
   ],
   "source": [
    "# 4a. Add a marker layer for each city to the map.\n",
    "marker_layer = gmaps.marker_layer(locations, info_box_content=hotel_info)\n",
    "fig = gmaps.figure(center=(30.0, 31.0), zoom_level=1.5)\n",
    "fig.add_layer(marker_layer)\n",
    "\n",
    "fig\n"
   ]
  },
  {
   "cell_type": "code",
   "execution_count": 28,
   "metadata": {},
   "outputs": [],
   "source": [
    "# From the map above pick 4 cities and create a vacation itinerary route to travel between the four cities. \n",
    "# 5. Create DataFrames for each city by filtering the 'vacation_df' using the loc method. \n",
    "# Hint: The starting and ending city should be the same city.\n",
    "\n",
    "vacation_start = vacation_df.loc[(vacation_df[\"City\"] == \"Requena\")]\n",
    "vacation_end = vacation_df.loc[(vacation_df[\"City\"] ==\"Requena\")]\n",
    "vacation_stop1 = vacation_df.loc[(vacation_df[\"City\"] ==\"Mortara\")]\n",
    "vacation_stop2 = vacation_df.loc[(vacation_df[\"City\"] ==\"Portoferraio\")]\n",
    "vacation_stop3 = vacation_df.loc[(vacation_df[\"City\"] == \"Naples\")]"
   ]
  },
  {
   "cell_type": "code",
   "execution_count": 29,
   "metadata": {},
   "outputs": [],
   "source": [
    "# 6. Get the latitude-longitude pairs as tuples from each city DataFrame using the to_numpy function and list indexing.\n",
    "start = vacation_start[\"Lat\"].to_numpy()[0], vacation_start[\"Lng\"].to_numpy()[0]\n",
    "end = vacation_end[\"Lat\"].to_numpy()[0], vacation_end[\"Lng\"].to_numpy()[0]\n",
    "stop1 = vacation_stop1[\"Lat\"].to_numpy()[0], vacation_stop1[\"Lng\"].to_numpy()[0]\n",
    "stop2 = vacation_stop2[\"Lat\"].to_numpy()[0], vacation_stop2[\"Lng\"].to_numpy()[0]\n",
    "stop3 = vacation_stop3[\"Lat\"].to_numpy()[0], vacation_stop3[\"Lng\"].to_numpy()[0]"
   ]
  },
  {
   "cell_type": "code",
   "execution_count": 30,
   "metadata": {},
   "outputs": [
    {
     "name": "stdout",
     "output_type": "stream",
     "text": [
      "(39.4883, -1.1004) (39.4883, -1.1004) (45.2473, 8.7355) (42.8115, 10.3146) (40.8333, 14.25)\n"
     ]
    }
   ],
   "source": [
    "print(start, end, stop1, stop2, stop3)"
   ]
  },
  {
   "cell_type": "code",
   "execution_count": 31,
   "metadata": {
    "scrolled": true
   },
   "outputs": [
    {
     "data": {
      "application/vnd.jupyter.widget-view+json": {
       "model_id": "ccb9777b2a5e414a98c8a52ea3b35326",
       "version_major": 2,
       "version_minor": 0
      },
      "text/plain": [
       "Figure(layout=FigureLayout(height='420px'))"
      ]
     },
     "metadata": {},
     "output_type": "display_data"
    }
   ],
   "source": [
    "# 7. Create a direction layer map using the start and end latitude-longitude pairs,\n",
    "# and stop1, stop2, and stop3 as the waypoints. The travel_mode should be \"DRIVING\", \"BICYCLING\", or \"WALKING\".\n",
    "fig = gmaps.figure()\n",
    "city_itinerary = gmaps.directions_layer(\n",
    "        start, end, waypoints=[stop1, stop2, stop3], travel_mode='DRIVING')\n",
    "\n",
    "fig.add_layer(city_itinerary)\n",
    "fig\n"
   ]
  },
  {
   "cell_type": "code",
   "execution_count": 32,
   "metadata": {},
   "outputs": [
    {
     "data": {
      "text/html": [
       "<div>\n",
       "<style scoped>\n",
       "    .dataframe tbody tr th:only-of-type {\n",
       "        vertical-align: middle;\n",
       "    }\n",
       "\n",
       "    .dataframe tbody tr th {\n",
       "        vertical-align: top;\n",
       "    }\n",
       "\n",
       "    .dataframe thead th {\n",
       "        text-align: right;\n",
       "    }\n",
       "</style>\n",
       "<table border=\"1\" class=\"dataframe\">\n",
       "  <thead>\n",
       "    <tr style=\"text-align: right;\">\n",
       "      <th></th>\n",
       "      <th>City_ID</th>\n",
       "      <th>City</th>\n",
       "      <th>Country</th>\n",
       "      <th>Lat</th>\n",
       "      <th>Lng</th>\n",
       "      <th>Max Temp</th>\n",
       "      <th>Humidity</th>\n",
       "      <th>Cloudiness</th>\n",
       "      <th>Wind Speed</th>\n",
       "      <th>Current Description</th>\n",
       "      <th>Hotel Name</th>\n",
       "    </tr>\n",
       "  </thead>\n",
       "  <tbody>\n",
       "    <tr>\n",
       "      <th>0</th>\n",
       "      <td>589</td>\n",
       "      <td>Requena</td>\n",
       "      <td>ES</td>\n",
       "      <td>39.4883</td>\n",
       "      <td>-1.1004</td>\n",
       "      <td>66.79</td>\n",
       "      <td>58</td>\n",
       "      <td>0</td>\n",
       "      <td>4.23</td>\n",
       "      <td>clear sky</td>\n",
       "      <td>Hotel Avenida</td>\n",
       "    </tr>\n",
       "    <tr>\n",
       "      <th>1</th>\n",
       "      <td>90</td>\n",
       "      <td>Mortara</td>\n",
       "      <td>IT</td>\n",
       "      <td>45.2473</td>\n",
       "      <td>8.7355</td>\n",
       "      <td>74.71</td>\n",
       "      <td>65</td>\n",
       "      <td>98</td>\n",
       "      <td>3.24</td>\n",
       "      <td>overcast clouds</td>\n",
       "      <td>B&amp;B Il Pioppo e La Fonte</td>\n",
       "    </tr>\n",
       "    <tr>\n",
       "      <th>2</th>\n",
       "      <td>472</td>\n",
       "      <td>Portoferraio</td>\n",
       "      <td>IT</td>\n",
       "      <td>42.8115</td>\n",
       "      <td>10.3146</td>\n",
       "      <td>78.58</td>\n",
       "      <td>41</td>\n",
       "      <td>100</td>\n",
       "      <td>5.06</td>\n",
       "      <td>overcast clouds</td>\n",
       "      <td>Hotel Villa Ombrosa</td>\n",
       "    </tr>\n",
       "    <tr>\n",
       "      <th>3</th>\n",
       "      <td>518</td>\n",
       "      <td>Naples</td>\n",
       "      <td>IT</td>\n",
       "      <td>40.8333</td>\n",
       "      <td>14.2500</td>\n",
       "      <td>76.75</td>\n",
       "      <td>72</td>\n",
       "      <td>20</td>\n",
       "      <td>2.30</td>\n",
       "      <td>few clouds</td>\n",
       "      <td>Renaissance Naples Hotel Mediterraneo</td>\n",
       "    </tr>\n",
       "  </tbody>\n",
       "</table>\n",
       "</div>"
      ],
      "text/plain": [
       "   City_ID          City Country      Lat      Lng  Max Temp  Humidity  \\\n",
       "0      589       Requena      ES  39.4883  -1.1004     66.79        58   \n",
       "1       90       Mortara      IT  45.2473   8.7355     74.71        65   \n",
       "2      472  Portoferraio      IT  42.8115  10.3146     78.58        41   \n",
       "3      518        Naples      IT  40.8333  14.2500     76.75        72   \n",
       "\n",
       "   Cloudiness  Wind Speed Current Description  \\\n",
       "0           0        4.23           clear sky   \n",
       "1          98        3.24     overcast clouds   \n",
       "2         100        5.06     overcast clouds   \n",
       "3          20        2.30          few clouds   \n",
       "\n",
       "                              Hotel Name  \n",
       "0                          Hotel Avenida  \n",
       "1               B&B Il Pioppo e La Fonte  \n",
       "2                    Hotel Villa Ombrosa  \n",
       "3  Renaissance Naples Hotel Mediterraneo  "
      ]
     },
     "execution_count": 32,
     "metadata": {},
     "output_type": "execute_result"
    }
   ],
   "source": [
    "# 8. To create a marker layer map between the four cities.\n",
    "#  Combine the four city DataFrames into one DataFrame using the concat() function.\n",
    "itinerary_df = pd.concat([ \n",
    "    vacation_start,\n",
    "    vacation_stop1,\n",
    "    vacation_stop2,\n",
    "    vacation_stop3],ignore_index=True)\n",
    "\n",
    "itinerary_df"
   ]
  },
  {
   "cell_type": "code",
   "execution_count": 33,
   "metadata": {},
   "outputs": [],
   "source": [
    "# 9 Using the template add city name, the country code, the weather description and maximum temperature for the city. \n",
    "info_box_template = \"\"\"\n",
    "<dl>\n",
    "<dt>Hotel Name</dt><dd>{Hotel Name}</dd>\n",
    "<dt>City</dt><dd>{City}</dd>\n",
    "<dt>Country</dt><dd>{Country}</dd>\n",
    "<dt>Weather Description</dt><dd>{Current Description}</dd>\n",
    "<dt>Max Temp</dt><dd>{Max Temp} °F</dd>\n",
    "</dl>\n",
    "\"\"\"\n",
    "# 10a Get the data from each row and add it to the formatting template and store the data in a list.\n",
    "hotel_info = [info_box_template.format(**row) for index, row in itinerary_df.iterrows()]\n",
    "\n",
    "# 10b. Get the latitude and longitude from each row and store in a new DataFrame.\n",
    "locations = itinerary_df[[\"Lat\", \"Lng\"]]"
   ]
  },
  {
   "cell_type": "code",
   "execution_count": 45,
   "metadata": {},
   "outputs": [
    {
     "data": {
      "application/vnd.jupyter.widget-view+json": {
       "model_id": "aa3cadc79e5d4513b8770c8fb4740d2c",
       "version_major": 2,
       "version_minor": 0
      },
      "text/plain": [
       "Figure(layout=FigureLayout(height='420px'))"
      ]
     },
     "metadata": {},
     "output_type": "display_data"
    }
   ],
   "source": [
    "# 11a. Add a marker layer for each city to the map.\n",
    "\n",
    "marker_layer = gmaps.marker_layer(locations, info_box_content=hotel_info)\n",
    "fig = gmaps.figure(center=(30.0, 31.0), zoom_level=1.5)\n",
    "fig.add_layer(marker_layer)\n",
    "# 11b. Display the figure\n",
    "fig"
   ]
  },
  {
   "cell_type": "code",
   "execution_count": null,
   "metadata": {},
   "outputs": [],
   "source": []
  }
 ],
 "metadata": {
  "kernelspec": {
   "display_name": "PythonData",
   "language": "python",
   "name": "pythondata"
  },
  "language_info": {
   "codemirror_mode": {
    "name": "ipython",
    "version": 3
   },
   "file_extension": ".py",
   "mimetype": "text/x-python",
   "name": "python",
   "nbconvert_exporter": "python",
   "pygments_lexer": "ipython3",
   "version": "3.9.12"
  },
  "latex_envs": {
   "LaTeX_envs_menu_present": true,
   "autoclose": false,
   "autocomplete": true,
   "bibliofile": "biblio.bib",
   "cite_by": "apalike",
   "current_citInitial": 1,
   "eqLabelWithNumbers": true,
   "eqNumInitial": 1,
   "hotkeys": {
    "equation": "Ctrl-E",
    "itemize": "Ctrl-I"
   },
   "labels_anchors": false,
   "latex_user_defs": false,
   "report_style_numbering": false,
   "user_envs_cfg": false
  }
 },
 "nbformat": 4,
 "nbformat_minor": 2
}
